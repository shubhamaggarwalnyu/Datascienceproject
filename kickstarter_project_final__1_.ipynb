{
 "cells": [
  {
   "cell_type": "markdown",
   "metadata": {},
   "source": [
    "<H1>----------------------------------------------------------------------------------------------------------</H1>\n",
    "<H1> TITLE: Prediction of Success of a Project before release </H1>\n",
    "<H1>----------------------------------------------------------------------------------------------------------</H1>\n",
    "\n",
    "<H1>----------------------------------------------------------------------------------------------------------</H1>\n",
    "<b>Abstract: </b>\n",
    "\n",
    "This project focus on predicting the success of a project before its released in the market. This could save millions, if not billions, of lost dollars due to minor errors that could be debugged if carefully tested. The problem that we are solving is a prediction of the success of the project before it is released. If we are able to solve this problem efficiently, then people can run our model to test the success of the project and check for themselves on how to improve their project for greater success. We approached this problem by starting with data collection. We then performed data pre-processing and data visualization. We then performed data transformation and fed the data to the machine learning models like logistic regression and random forest classifier. Our results show that the choice of logistic regression gave very good prediction accuracy of the success of the project.\n",
    "\n",
    "\n",
    "<H1>----------------------------------------------------------------------------------------------------------</H1>\n",
    "<b> Background:  </b>\n",
    "\n",
    "a. Description of the Data Science Problem:\n",
    "   \n",
    "   The current data science problem we are trying to solve is that we are trying to predict the success of a project before it is released in the real world. \n",
    "   \n",
    "  <b> Hurdles/Challenges faced : </b>\n",
    "   \n",
    "There are many hurdles in solving this problem, some of them being working with the data collection of huge dataset from different sources. After obtaining the relevant data, cleaning the data is a big challenge here. Dropping irrelevant columns/values and performing feature engineering demands various operations to be executed in logical steps. After this step, understanding the data using proper visualization techniques is another hurdle since a data can have many different ways to be visualized but finding the key data points and designing appropriate visualization techniques for them make a huge difference in understanding what the data is trying to convey. Transforming the data and getting it ready to be fed to the Machine Learning Models is the next logical step. Finally, choosing an appropriate algorithm and getting a high value of prediction accuracy indicated how well the data was cleaned and prepared for the Machine learning models. \n",
    "\n",
    "b. Motivation for Problem:\n",
    "  \n",
    "  A huge variety of factors contribute to the success or failure of a project. Some of these are able to be quantified or categorized, which allows for the construction of a model to attempt to predict whether a project will succeed or not. The aim of this project is to construct such a model and also to analyze Kickstarter project data more generally, in order to help potential project creators assess whether or not Kickstarter is a good funding option for them, and what their chances of success are.\n",
    "\n",
    "c. References / Existing Software:\n",
    "<b> Link to the Dataset: </b>\n",
    "\n",
    "Size of the original Dataset <b>~43GB</b>\n",
    "\n",
    "https://webrobots.io/kickstarter-datasets/\n",
    "\n",
    "<H1>----------------------------------------------------------------------------------------------------------</H1>\n",
    "\n",
    "<H4>Methodology/ Steps taken to perform the entire Data Analysis:</H4>\n",
    "\n",
    "We have divided the entire task of Data Analysis into manageable chunks of actions. We divided the task into these broad 5 categories as shown below and they further contain various small steps of data analysis:\n",
    "<b>\n",
    "    \n",
    "    Step 1: Web Scraping (Data collection)\n",
    "    Step 2: Pre-processing the Data\n",
    "    Step 3: Exploratory Data Analysis\n",
    "    Step 4: Transformaing the Data\n",
    "    Step 5: Machine Learning Modelling of Data for prediction\n",
    "</b>\n",
    "\n",
    "<H1>----------------------------------------------------------------------------------------------------------</H1>"
   ]
  },
  {
   "cell_type": "markdown",
   "metadata": {},
   "source": [
    "### Import packages and libraries for <br>\n",
    "\n",
    "<li> Web Scraping </li>\n",
    "<li> Feature Transformation </li>\n",
    "<li> Exploratory Data Analysis </li>\n",
    "<li> Data Transformation </li>\n",
    "<li> Data Modelling </li>"
   ]
  },
  {
   "cell_type": "code",
   "execution_count": 3,
   "metadata": {},
   "outputs": [],
   "source": [
    "from __future__ import unicode_literals\n",
    "from bs4 import BeautifulSoup\n",
    "from contextlib import closing\n",
    "from requests import get\n",
    "from requests.exceptions import RequestException\n",
    "from zipfile import ZipFile\n",
    "from glob import glob\n",
    "from pandas.io.json import json_normalize\n",
    "import matplotlib.pyplot as plt\n",
    "import csv\n",
    "import html5lib\n",
    "import json\n",
    "import logging\n",
    "import os\n",
    "import pandas as pd\n",
    "import numpy as np\n",
    "import re\n",
    "import sys\n",
    "import time\n",
    "import seaborn as sns"
   ]
  },
  {
   "cell_type": "code",
   "execution_count": 4,
   "metadata": {},
   "outputs": [],
   "source": [
    "from sklearn.preprocessing import StandardScaler\n",
    "from sklearn.model_selection import train_test_split\n",
    "from sklearn.metrics import roc_curve, auc\n",
    "from sklearn.metrics import confusion_matrix\n",
    "from sklearn.linear_model import LogisticRegression\n",
    "from sklearn.metrics import classification_report\n",
    "from sklearn.ensemble import RandomForestClassifier\n",
    "from sklearn.neural_network import MLPClassifier"
   ]
  },
  {
   "cell_type": "markdown",
   "metadata": {},
   "source": [
    "# STEP 1: WEB SCRAPING  (Data collection)\n",
    "\n",
    "Here we perform Web Scraping in order to collect the data to work with. We can also call this step as Data Collection. This is the first step to start dealing with a data science problem."
   ]
  },
  {
   "cell_type": "code",
   "execution_count": 2,
   "metadata": {},
   "outputs": [],
   "source": [
    "logging.basicConfig(filename = 'scraping_logs.log', filemode='a', level=logging.INFO)"
   ]
  },
  {
   "cell_type": "code",
   "execution_count": 3,
   "metadata": {},
   "outputs": [],
   "source": [
    "logger = logging.getLogger('test')\n",
    "logger.setLevel(logging.INFO)\n",
    "logger.addHandler(logging.StreamHandler(sys.stdout))\n",
    "pd.options.display.max_colwidth = -1\n",
    "pd.set_option('display.max_columns', None)\n",
    "pd.set_option('display.max_rows', None)"
   ]
  },
  {
   "cell_type": "markdown",
   "metadata": {},
   "source": [
    "### Step 1.1: <b>Collect CSV urls for download<b>"
   ]
  },
  {
   "cell_type": "code",
   "execution_count": 4,
   "metadata": {},
   "outputs": [],
   "source": [
    "def get_html(url):\n",
    "    \"\"\"This function makes a GET Request to the url specified.\n",
    "    This gets the raw HTML content if there is a good response.\n",
    "    \"\"\"\n",
    "    try:\n",
    "        resp = get(url, stream=True, timeout=30)\n",
    "        if resp.status_code == 200:\n",
    "            return resp.content\n",
    "        else:\n",
    "            return None\n",
    "    except Exception as e:\n",
    "        logging.exception(str(e))"
   ]
  },
  {
   "cell_type": "code",
   "execution_count": 5,
   "metadata": {},
   "outputs": [],
   "source": [
    "def get_csvfile_url(parsed_data_html):\n",
    "    \"\"\"This function gets the url's of all the CSV files specified for all the data files.\n",
    "    \"\"\"\n",
    "    try:\n",
    "        parsed_data_bs = BeautifulSoup(parsed_data_html, \"html.parser\")\n",
    "        parsed_data_class = parsed_data_bs.find('div', {'class': 'fusion_text'})\n",
    "        dataset_csvfile_url = []\n",
    "        links = parsed_data_bs.findAll('li')\n",
    "        all_links = []\n",
    "        for link in links:\n",
    "            csv_url = link.findAll('a')\n",
    "            for url in csv_url:\n",
    "                if 'json' not in url['href'] and 'Kickstarter' in url['href']:\n",
    "                    all_links.append(url['href'])\n",
    "        return all_links\n",
    "    except Exception as e:\n",
    "        logging.exception(str(e))"
   ]
  },
  {
   "cell_type": "markdown",
   "metadata": {},
   "source": [
    "### Step 1.2: Download and Extract zip files of dataset"
   ]
  },
  {
   "cell_type": "code",
   "execution_count": 6,
   "metadata": {},
   "outputs": [],
   "source": [
    "def download_and_extract(zipFiles):\n",
    "    \"\"\"This Function downloads all the zip files from the urls\n",
    "    specified by the results in the previous step.\n",
    "    Module ZipFile helps extract all the contents in the current\n",
    "    directory\n",
    "    \"\"\"\n",
    "    for res in zipFiles:\n",
    "        name = res.split('/')[-1]\n",
    "        dirt = name.split('.')[0]\n",
    "        os.system('wget '+res)\n",
    "        with ZipFile(name, 'r') as zip_file_obj:\n",
    "            zip_file_obj.extractall(dirt)"
   ]
  },
  {
   "cell_type": "code",
   "execution_count": 7,
   "metadata": {},
   "outputs": [],
   "source": [
    "# Here we fetch the data from the dataset available at \"https://webrobots.io/kickstarter-datasets/\"\n",
    "parsed_data_html = get_html('https://webrobots.io/kickstarter-datasets/')\n",
    "results = get_csvfile_url(parsed_data_html)"
   ]
  },
  {
   "cell_type": "code",
   "execution_count": 8,
   "metadata": {},
   "outputs": [
    {
     "data": {
      "text/plain": [
       "['https://s3.amazonaws.com/weruns/forfun/Kickstarter/Kickstarter_2019-11-14T03_20_27_004Z.zip',\n",
       " 'https://s3.amazonaws.com/weruns/forfun/Kickstarter/Kickstarter_2019-10-17T03_20_19_421Z.zip',\n",
       " 'https://s3.amazonaws.com/weruns/forfun/Kickstarter/Kickstarter_2019-09-12T03_20_06_215Z.zip',\n",
       " 'https://s3.amazonaws.com/weruns/forfun/Kickstarter/Kickstarter_2019-08-15T03_20_03_022Z.zip',\n",
       " 'https://s3.amazonaws.com/weruns/forfun/Kickstarter/Kickstarter_2019-07-18T03_20_05_009Z.zip']"
      ]
     },
     "execution_count": 8,
     "metadata": {},
     "output_type": "execute_result"
    }
   ],
   "source": [
    "#This are the sample csv urls to be downloaded \n",
    "results[:5]"
   ]
  },
  {
   "cell_type": "raw",
   "metadata": {},
   "source": [
    "#This function call downloads and extracts all the zip files\n",
    "download_and_extract(results)"
   ]
  },
  {
   "cell_type": "markdown",
   "metadata": {},
   "source": [
    "### Step 1.3: Find and concatenate only Kickstarter data files"
   ]
  },
  {
   "cell_type": "code",
   "execution_count": 36,
   "metadata": {},
   "outputs": [],
   "source": [
    "def get_all_csv_files():\n",
    "    \"\"\" This function is to aggregate all the CSV Files in project directory\n",
    "    This list of files contains raw data, transformed data and feature_transformed data.\n",
    "    This 3 types of data exists for the reason. \n",
    "    The original scraped data is very huge and is divided in more than 2200 files.\n",
    "    This files were being concatenated to only 45 files which is done in the next step \n",
    "    and stored in transformed_data directory.\n",
    "    This files huge data of 45 files were being feed to feature_transformation function\n",
    "    built using the testing on small dataset, this feature_transformed data is stored in\n",
    "    feautured_data directory.\n",
    "    \"\"\"\n",
    "    extension = \"*.csv\"\n",
    "    all_csv_files = [file\n",
    "                     for path, subdir, files in os.walk('/scratch/work/jupyterhub/2019-FA-DS-GA-1007/haj272/project')\n",
    "                     for file in glob(os.path.join(path, extension))]\n",
    "    kickstarter = [file for file in all_csv_files if 'Kickstarter' in file]\n",
    "    transformed_data = [file for file in all_csv_files if 'transformed_data' in file]\n",
    "    featured = [file for file in all_csv_files if 'feature' in file]\n",
    "    return kickstarter, transformed_data, featured"
   ]
  },
  {
   "cell_type": "code",
   "execution_count": 37,
   "metadata": {},
   "outputs": [],
   "source": [
    "kickstarter, transformed_data, featured = get_all_csv_files()"
   ]
  },
  {
   "cell_type": "code",
   "execution_count": 38,
   "metadata": {},
   "outputs": [
    {
     "data": {
      "text/plain": [
       "2230"
      ]
     },
     "execution_count": 38,
     "metadata": {},
     "output_type": "execute_result"
    }
   ],
   "source": [
    "len(kickstarter)"
   ]
  },
  {
   "cell_type": "code",
   "execution_count": 12,
   "metadata": {},
   "outputs": [],
   "source": [
    "def concatenate_data(kickstarter):\n",
    "    '''Due to a large dataset, we had 2200 files, which we concatenated\n",
    "    to a reasonable number, that is 45 files in this case , in order to work efficiently\n",
    "    '''\n",
    "    for i in range(0,2200,50):\n",
    "        filename = 'transformed_data/files'+str(i)+'_to_'+str(i+50)+'.csv'\n",
    "        df_from_each_file = (pd.read_csv(file) for file in kickstarter[i:i+50])\n",
    "        concatenated_df1 = pd.concat(df_from_each_file, ignore_index=True)\n",
    "        concatenated_df1.to_csv(filename, index=False)                                "
   ]
  },
  {
   "cell_type": "raw",
   "metadata": {},
   "source": [
    "concatenate_data(kickstarter)"
   ]
  },
  {
   "cell_type": "markdown",
   "metadata": {},
   "source": [
    "# Step 2. PreProcessing the Data"
   ]
  },
  {
   "cell_type": "markdown",
   "metadata": {},
   "source": [
    "<b> Note: \n",
    "    Before beginning to work properly on our original large dataset of 45 files, we though of testing on a small dataset to be comfortable. This is what you see in the next few lines below: </b>"
   ]
  },
  {
   "cell_type": "markdown",
   "metadata": {},
   "source": [
    "### Step 2.1: Now, we begin Data Importing from 2 files concatenated and named as top2files.csv"
   ]
  },
  {
   "cell_type": "code",
   "execution_count": 13,
   "metadata": {},
   "outputs": [
    {
     "name": "stderr",
     "output_type": "stream",
     "text": [
      "/share/apps/jupyterhub/2019-FA-DS-GA-1007/lib/python3.7/site-packages/ipykernel_launcher.py:2: DtypeWarning: Columns (10,13,17,18,19,23,28,36) have mixed types. Specify dtype option on import or set low_memory=False.\n",
      "  \n",
      "/share/apps/jupyterhub/2019-FA-DS-GA-1007/lib/python3.7/site-packages/ipykernel_launcher.py:2: DtypeWarning: Columns (10,13,17,18,19,23,36) have mixed types. Specify dtype option on import or set low_memory=False.\n",
      "  \n"
     ]
    }
   ],
   "source": [
    "df_from_each_file = (pd.read_csv(file) for file in transformed_data[10:12])\n",
    "concatenated_df1 = pd.concat(df_from_each_file, ignore_index=True)\n",
    "concatenated_df1.to_csv('top2files.csv', index=False) "
   ]
  },
  {
   "cell_type": "code",
   "execution_count": 41,
   "metadata": {
    "scrolled": false
   },
   "outputs": [],
   "source": [
    "# The Code below is for testing purposes.. \n",
    "df = pd.read_csv('top2files.csv', engine='python')"
   ]
  },
  {
   "cell_type": "markdown",
   "metadata": {},
   "source": [
    "<b>Next few steps are data pre-processing:</b>"
   ]
  },
  {
   "cell_type": "code",
   "execution_count": 42,
   "metadata": {
    "scrolled": true
   },
   "outputs": [
    {
     "data": {
      "text/plain": [
       "backers_count                0.000000\n",
       "blurb                        0.006042\n",
       "category                     0.000000\n",
       "converted_pledged_amount    43.564651\n",
       "country                      0.000000\n",
       "created_at                   0.000000\n",
       "creator                      0.000000\n",
       "currency                     0.000000\n",
       "currency_symbol              0.000000\n",
       "currency_trailing_code       0.000000\n",
       "current_currency            43.564651\n",
       "deadline                     0.000000\n",
       "disable_communication        0.000000\n",
       "friends                     99.878647\n",
       "fx_rate                     43.564651\n",
       "goal                         0.000000\n",
       "id                           0.000000\n",
       "is_backing                  99.878647\n",
       "is_starrable                43.564651\n",
       "is_starred                  99.878647\n",
       "launched_at                  0.000000\n",
       "location                     0.318992\n",
       "name                         0.000504\n",
       "permissions                 99.878647\n",
       "photo                        0.000000\n",
       "pledged                      0.000000\n",
       "profile                      0.000000\n",
       "slug                         0.000000\n",
       "source_url                  15.479281\n",
       "spotlight                    0.000000\n",
       "staff_pick                   0.000000\n",
       "state                        0.000000\n",
       "state_changed_at             0.000000\n",
       "static_usd_rate              0.000000\n",
       "urls                         0.000000\n",
       "usd_pledged                  0.000000\n",
       "usd_type                    43.748442\n",
       "dtype: float64"
      ]
     },
     "execution_count": 42,
     "metadata": {},
     "output_type": "execute_result"
    }
   ],
   "source": [
    "#Percentage of null values in a column\n",
    "df.isnull().sum()*100/df.shape[0]"
   ]
  },
  {
   "cell_type": "code",
   "execution_count": 43,
   "metadata": {},
   "outputs": [],
   "source": [
    "df.drop(['friends', 'is_backing', 'is_starred', 'permissions',\n",
    "         'converted_pledged_amount', 'creator', 'currency', \n",
    "         'currency_symbol', 'currency_trailing_code', 'current_currency', \n",
    "         'fx_rate', 'photo', 'pledged', 'profile', 'slug', 'source_url', \n",
    "         'spotlight', 'state_changed_at', 'urls', 'usd_type'], axis=1, inplace=True)"
   ]
  },
  {
   "cell_type": "code",
   "execution_count": 44,
   "metadata": {},
   "outputs": [],
   "source": [
    "cols_to_convert = ['created_at', 'deadline', 'launched_at']\n",
    "for c in cols_to_convert:\n",
    "    df[c] = pd.to_datetime(df[c], origin='unix', unit='s')"
   ]
  },
  {
   "cell_type": "code",
   "execution_count": 45,
   "metadata": {},
   "outputs": [],
   "source": [
    "df['blurb_length'] = df['blurb'].str.split().str.len()"
   ]
  },
  {
   "cell_type": "code",
   "execution_count": 46,
   "metadata": {},
   "outputs": [],
   "source": [
    "df['cat'] = df['category'].apply(json.loads)"
   ]
  },
  {
   "cell_type": "code",
   "execution_count": 47,
   "metadata": {},
   "outputs": [],
   "source": [
    "df_temp = json_normalize(df['cat'])"
   ]
  },
  {
   "cell_type": "code",
   "execution_count": 48,
   "metadata": {},
   "outputs": [],
   "source": [
    "df_temp['category1'], df_temp['subcatgory'] = df_temp.slug.str.split('/').str\n",
    "df_temp.drop(['color', 'parent_id', 'name', 'id', 'position', 'urls.web.discover', 'slug'], axis=1, inplace=True)"
   ]
  },
  {
   "cell_type": "code",
   "execution_count": 49,
   "metadata": {},
   "outputs": [],
   "source": [
    "df = pd.merge(df, df_temp, left_index=True, right_index=True)"
   ]
  },
  {
   "cell_type": "code",
   "execution_count": 50,
   "metadata": {},
   "outputs": [
    {
     "data": {
      "text/plain": [
       "False    0.996354\n",
       "True     0.003646\n",
       "Name: disable_communication, dtype: float64"
      ]
     },
     "execution_count": 50,
     "metadata": {},
     "output_type": "execute_result"
    }
   ],
   "source": [
    "# Checking the proportions of each category\n",
    "df.disable_communication.value_counts(normalize=True)"
   ]
  },
  {
   "cell_type": "code",
   "execution_count": 51,
   "metadata": {
    "scrolled": true
   },
   "outputs": [],
   "source": [
    "df.drop(['disable_communication','cat', 'category'], axis=1, inplace=True)"
   ]
  },
  {
   "cell_type": "code",
   "execution_count": 52,
   "metadata": {},
   "outputs": [],
   "source": [
    "# Calculate new column 'usd_goal' as goal * static_usd_rate\n",
    "df['usd_goal'] = round(df['goal'] * df['static_usd_rate'],2)"
   ]
  },
  {
   "cell_type": "code",
   "execution_count": 53,
   "metadata": {},
   "outputs": [],
   "source": [
    "# Dropping goal and static_usd_rate\n",
    "df.drop(['goal', 'static_usd_rate'], axis=1, inplace=True)"
   ]
  },
  {
   "cell_type": "code",
   "execution_count": 54,
   "metadata": {},
   "outputs": [
    {
     "data": {
      "text/plain": [
       "False    0.970663\n",
       "True     0.029337\n",
       "Name: is_starrable, dtype: float64"
      ]
     },
     "execution_count": 54,
     "metadata": {},
     "output_type": "execute_result"
    }
   ],
   "source": [
    "# Figure out what this is, and do a count_values() to figure out whether it's worth including or mostly FALSE\n",
    "df.is_starrable.value_counts(normalize=True)"
   ]
  },
  {
   "cell_type": "code",
   "execution_count": 55,
   "metadata": {},
   "outputs": [],
   "source": [
    "df.drop('location', axis=1, inplace=True)"
   ]
  },
  {
   "cell_type": "markdown",
   "metadata": {},
   "source": [
    "### Step 2.2: Feature Engineering\n",
    "<b> Here we perform the feature engineering (It is defined as the number of steps that needs to be taken to extract certain highly relevant features that can be used for the machine learning models to work properly) in the next few lines of code: </b>"
   ]
  },
  {
   "cell_type": "code",
   "execution_count": 56,
   "metadata": {},
   "outputs": [],
   "source": [
    "# Count length of each name\n",
    "df['name_length'] = df['name'].str.split().str.len()"
   ]
  },
  {
   "cell_type": "code",
   "execution_count": 57,
   "metadata": {},
   "outputs": [],
   "source": [
    "df['usd_pledged'] = round(df['usd_pledged'],2)"
   ]
  },
  {
   "cell_type": "code",
   "execution_count": 58,
   "metadata": {},
   "outputs": [],
   "source": [
    "# Time between creating and launching a project\n",
    "df['creation_to_launch_days'] = df['launched_at'] - df['created_at']\n",
    "df['creation_to_launch_days'] = df['creation_to_launch_days'].dt.round('d').dt.days "
   ]
  },
  {
   "cell_type": "code",
   "execution_count": 59,
   "metadata": {},
   "outputs": [],
   "source": [
    "# Campaign length\n",
    "df['campaign_days'] = df['deadline'] - df['launched_at']\n",
    "df['campaign_days'] = df['campaign_days'].dt.round('d').dt.days # Rounding to nearest days, then showing as number only"
   ]
  },
  {
   "cell_type": "code",
   "execution_count": 60,
   "metadata": {},
   "outputs": [],
   "source": [
    "# Mean pledge per backer\n",
    "df['pledge_per_backer'] = round(df['usd_pledged']/df['backers_count'],2)"
   ]
  },
  {
   "cell_type": "code",
   "execution_count": 61,
   "metadata": {
    "scrolled": false
   },
   "outputs": [
    {
     "data": {
      "text/plain": [
       "backers_count                   0\n",
       "blurb                          24\n",
       "country                         0\n",
       "created_at                      0\n",
       "deadline                        0\n",
       "id                              0\n",
       "is_starrable               173034\n",
       "launched_at                     0\n",
       "name                            2\n",
       "staff_pick                      0\n",
       "state                           0\n",
       "usd_pledged                     0\n",
       "blurb_length                   24\n",
       "category1                       0\n",
       "subcatgory                  12056\n",
       "usd_goal                        0\n",
       "name_length                     2\n",
       "creation_to_launch_days         0\n",
       "campaign_days                   0\n",
       "pledge_per_backer           43771\n",
       "dtype: int64"
      ]
     },
     "execution_count": 61,
     "metadata": {},
     "output_type": "execute_result"
    }
   ],
   "source": [
    "df.isna().sum()"
   ]
  },
  {
   "cell_type": "code",
   "execution_count": 62,
   "metadata": {},
   "outputs": [],
   "source": [
    "df.blurb_length.fillna(0, inplace=True)"
   ]
  },
  {
   "cell_type": "code",
   "execution_count": 63,
   "metadata": {},
   "outputs": [
    {
     "data": {
      "text/plain": [
       "successful    0.506781\n",
       "failed        0.410024\n",
       "canceled      0.051958\n",
       "live          0.027591\n",
       "suspended     0.003646\n",
       "Name: state, dtype: float64"
      ]
     },
     "execution_count": 63,
     "metadata": {},
     "output_type": "execute_result"
    }
   ],
   "source": [
    "# Number of projects of different states\n",
    "df.state.value_counts()/df.shape[0]"
   ]
  },
  {
   "cell_type": "code",
   "execution_count": 64,
   "metadata": {},
   "outputs": [],
   "source": [
    "# We have kept only Successful and Failed states, getting rid of all others. \n",
    "df = df[df['state'].isin(['successful', 'failed'])]"
   ]
  },
  {
   "cell_type": "code",
   "execution_count": 65,
   "metadata": {},
   "outputs": [],
   "source": [
    "df.drop_duplicates(subset='id', keep='first', inplace=True)"
   ]
  },
  {
   "cell_type": "code",
   "execution_count": 66,
   "metadata": {
    "scrolled": true
   },
   "outputs": [
    {
     "data": {
      "text/html": [
       "<div>\n",
       "<style scoped>\n",
       "    .dataframe tbody tr th:only-of-type {\n",
       "        vertical-align: middle;\n",
       "    }\n",
       "\n",
       "    .dataframe tbody tr th {\n",
       "        vertical-align: top;\n",
       "    }\n",
       "\n",
       "    .dataframe thead th {\n",
       "        text-align: right;\n",
       "    }\n",
       "</style>\n",
       "<table border=\"1\" class=\"dataframe\">\n",
       "  <thead>\n",
       "    <tr style=\"text-align: right;\">\n",
       "      <th></th>\n",
       "      <th>backers_count</th>\n",
       "      <th>blurb</th>\n",
       "      <th>country</th>\n",
       "      <th>created_at</th>\n",
       "      <th>deadline</th>\n",
       "      <th>is_starrable</th>\n",
       "      <th>launched_at</th>\n",
       "      <th>name</th>\n",
       "      <th>staff_pick</th>\n",
       "      <th>state</th>\n",
       "      <th>usd_pledged</th>\n",
       "      <th>blurb_length</th>\n",
       "      <th>category1</th>\n",
       "      <th>subcatgory</th>\n",
       "      <th>usd_goal</th>\n",
       "      <th>name_length</th>\n",
       "      <th>creation_to_launch_days</th>\n",
       "      <th>campaign_days</th>\n",
       "      <th>pledge_per_backer</th>\n",
       "    </tr>\n",
       "    <tr>\n",
       "      <th>id</th>\n",
       "      <th></th>\n",
       "      <th></th>\n",
       "      <th></th>\n",
       "      <th></th>\n",
       "      <th></th>\n",
       "      <th></th>\n",
       "      <th></th>\n",
       "      <th></th>\n",
       "      <th></th>\n",
       "      <th></th>\n",
       "      <th></th>\n",
       "      <th></th>\n",
       "      <th></th>\n",
       "      <th></th>\n",
       "      <th></th>\n",
       "      <th></th>\n",
       "      <th></th>\n",
       "      <th></th>\n",
       "      <th></th>\n",
       "    </tr>\n",
       "  </thead>\n",
       "  <tbody>\n",
       "    <tr>\n",
       "      <td>149292368</td>\n",
       "      <td>21</td>\n",
       "      <td>Tachoir music has been described as \"Highly or...</td>\n",
       "      <td>US</td>\n",
       "      <td>2013-03-28 15:08:20</td>\n",
       "      <td>2013-05-04 14:00:34</td>\n",
       "      <td>False</td>\n",
       "      <td>2013-04-04 14:00:34</td>\n",
       "      <td>New Jerry Tachoir Group Recording</td>\n",
       "      <td>False</td>\n",
       "      <td>failed</td>\n",
       "      <td>730.0</td>\n",
       "      <td>18.0</td>\n",
       "      <td>music</td>\n",
       "      <td>jazz</td>\n",
       "      <td>3000.0</td>\n",
       "      <td>5.0</td>\n",
       "      <td>7</td>\n",
       "      <td>30</td>\n",
       "      <td>34.76</td>\n",
       "    </tr>\n",
       "    <tr>\n",
       "      <td>482226461</td>\n",
       "      <td>13</td>\n",
       "      <td>Doug Munro channels his Great Uncle famed comp...</td>\n",
       "      <td>US</td>\n",
       "      <td>2013-03-29 16:49:07</td>\n",
       "      <td>2013-05-08 19:02:35</td>\n",
       "      <td>False</td>\n",
       "      <td>2013-04-08 19:02:35</td>\n",
       "      <td>La Pompe Attack plays the Harry Warren Song Book</td>\n",
       "      <td>False</td>\n",
       "      <td>failed</td>\n",
       "      <td>975.0</td>\n",
       "      <td>23.0</td>\n",
       "      <td>music</td>\n",
       "      <td>jazz</td>\n",
       "      <td>10000.0</td>\n",
       "      <td>9.0</td>\n",
       "      <td>10</td>\n",
       "      <td>30</td>\n",
       "      <td>75.00</td>\n",
       "    </tr>\n",
       "    <tr>\n",
       "      <td>1255970801</td>\n",
       "      <td>5</td>\n",
       "      <td>Jazz vocalist David Gonzalez celebrates his up...</td>\n",
       "      <td>US</td>\n",
       "      <td>2013-02-23 03:54:38</td>\n",
       "      <td>2013-05-10 20:58:43</td>\n",
       "      <td>False</td>\n",
       "      <td>2013-04-10 20:58:43</td>\n",
       "      <td>Jus' Jazzin' In New Orleans</td>\n",
       "      <td>False</td>\n",
       "      <td>failed</td>\n",
       "      <td>400.0</td>\n",
       "      <td>18.0</td>\n",
       "      <td>music</td>\n",
       "      <td>jazz</td>\n",
       "      <td>3985.0</td>\n",
       "      <td>5.0</td>\n",
       "      <td>47</td>\n",
       "      <td>30</td>\n",
       "      <td>80.00</td>\n",
       "    </tr>\n",
       "    <tr>\n",
       "      <td>556635603</td>\n",
       "      <td>5</td>\n",
       "      <td>Daymond Callahan &amp; Ahmad Johnson unite for ano...</td>\n",
       "      <td>US</td>\n",
       "      <td>2013-04-06 01:57:47</td>\n",
       "      <td>2013-05-16 00:58:33</td>\n",
       "      <td>False</td>\n",
       "      <td>2013-04-16 00:58:33</td>\n",
       "      <td>JazzPals 2013 Concert</td>\n",
       "      <td>False</td>\n",
       "      <td>failed</td>\n",
       "      <td>80.0</td>\n",
       "      <td>18.0</td>\n",
       "      <td>music</td>\n",
       "      <td>jazz</td>\n",
       "      <td>1000.0</td>\n",
       "      <td>3.0</td>\n",
       "      <td>10</td>\n",
       "      <td>30</td>\n",
       "      <td>16.00</td>\n",
       "    </tr>\n",
       "    <tr>\n",
       "      <td>1542780758</td>\n",
       "      <td>3</td>\n",
       "      <td>Sax/guitar duo makes funky grooves and groovy ...</td>\n",
       "      <td>US</td>\n",
       "      <td>2012-11-02 00:58:19</td>\n",
       "      <td>2013-05-17 21:29:00</td>\n",
       "      <td>False</td>\n",
       "      <td>2013-04-16 19:45:06</td>\n",
       "      <td>Smooth Jazz Launch</td>\n",
       "      <td>False</td>\n",
       "      <td>failed</td>\n",
       "      <td>50.0</td>\n",
       "      <td>9.0</td>\n",
       "      <td>music</td>\n",
       "      <td>jazz</td>\n",
       "      <td>2500.0</td>\n",
       "      <td>3.0</td>\n",
       "      <td>166</td>\n",
       "      <td>31</td>\n",
       "      <td>16.67</td>\n",
       "    </tr>\n",
       "  </tbody>\n",
       "</table>\n",
       "</div>"
      ],
      "text/plain": [
       "            backers_count                                              blurb  \\\n",
       "id                                                                             \n",
       "149292368              21  Tachoir music has been described as \"Highly or...   \n",
       "482226461              13  Doug Munro channels his Great Uncle famed comp...   \n",
       "1255970801              5  Jazz vocalist David Gonzalez celebrates his up...   \n",
       "556635603               5  Daymond Callahan & Ahmad Johnson unite for ano...   \n",
       "1542780758              3  Sax/guitar duo makes funky grooves and groovy ...   \n",
       "\n",
       "           country          created_at            deadline is_starrable  \\\n",
       "id                                                                        \n",
       "149292368       US 2013-03-28 15:08:20 2013-05-04 14:00:34        False   \n",
       "482226461       US 2013-03-29 16:49:07 2013-05-08 19:02:35        False   \n",
       "1255970801      US 2013-02-23 03:54:38 2013-05-10 20:58:43        False   \n",
       "556635603       US 2013-04-06 01:57:47 2013-05-16 00:58:33        False   \n",
       "1542780758      US 2012-11-02 00:58:19 2013-05-17 21:29:00        False   \n",
       "\n",
       "                   launched_at  \\\n",
       "id                               \n",
       "149292368  2013-04-04 14:00:34   \n",
       "482226461  2013-04-08 19:02:35   \n",
       "1255970801 2013-04-10 20:58:43   \n",
       "556635603  2013-04-16 00:58:33   \n",
       "1542780758 2013-04-16 19:45:06   \n",
       "\n",
       "                                                        name  staff_pick  \\\n",
       "id                                                                         \n",
       "149292368                  New Jerry Tachoir Group Recording       False   \n",
       "482226461   La Pompe Attack plays the Harry Warren Song Book       False   \n",
       "1255970801                       Jus' Jazzin' In New Orleans       False   \n",
       "556635603                              JazzPals 2013 Concert       False   \n",
       "1542780758                                Smooth Jazz Launch       False   \n",
       "\n",
       "             state  usd_pledged  blurb_length category1 subcatgory  usd_goal  \\\n",
       "id                                                                             \n",
       "149292368   failed        730.0          18.0     music       jazz    3000.0   \n",
       "482226461   failed        975.0          23.0     music       jazz   10000.0   \n",
       "1255970801  failed        400.0          18.0     music       jazz    3985.0   \n",
       "556635603   failed         80.0          18.0     music       jazz    1000.0   \n",
       "1542780758  failed         50.0           9.0     music       jazz    2500.0   \n",
       "\n",
       "            name_length  creation_to_launch_days  campaign_days  \\\n",
       "id                                                                \n",
       "149292368           5.0                        7             30   \n",
       "482226461           9.0                       10             30   \n",
       "1255970801          5.0                       47             30   \n",
       "556635603           3.0                       10             30   \n",
       "1542780758          3.0                      166             31   \n",
       "\n",
       "            pledge_per_backer  \n",
       "id                             \n",
       "149292368               34.76  \n",
       "482226461               75.00  \n",
       "1255970801              80.00  \n",
       "556635603               16.00  \n",
       "1542780758              16.67  "
      ]
     },
     "execution_count": 66,
     "metadata": {},
     "output_type": "execute_result"
    }
   ],
   "source": [
    "# Setting the id column as the index\n",
    "df.set_index('id', inplace=True)\n",
    "df.head()"
   ]
  },
  {
   "cell_type": "code",
   "execution_count": 67,
   "metadata": {},
   "outputs": [
    {
     "data": {
      "text/plain": [
       "Index(['backers_count', 'blurb', 'country', 'created_at', 'deadline',\n",
       "       'is_starrable', 'launched_at', 'name', 'staff_pick', 'state',\n",
       "       'usd_pledged', 'blurb_length', 'category1', 'subcatgory', 'usd_goal',\n",
       "       'name_length', 'creation_to_launch_days', 'campaign_days',\n",
       "       'pledge_per_backer'],\n",
       "      dtype='object')"
      ]
     },
     "execution_count": 67,
     "metadata": {},
     "output_type": "execute_result"
    }
   ],
   "source": [
    "df.columns"
   ]
  },
  {
   "cell_type": "markdown",
   "metadata": {},
   "source": [
    "### Step 2.3: Feature Engineering at scale"
   ]
  },
  {
   "cell_type": "markdown",
   "metadata": {},
   "source": [
    "<b> Feature Extraction on the smaller dataset is now complete at this stage. We are now ready to move forward with the next round of working with our original huge dataset and perform feature engineering at scale! </b>"
   ]
  },
  {
   "cell_type": "markdown",
   "metadata": {},
   "source": [
    "<b> The following code is now run on our huge dataset containing 45 files to perform Feature Extraction at scale </b>"
   ]
  },
  {
   "cell_type": "code",
   "execution_count": 34,
   "metadata": {},
   "outputs": [],
   "source": [
    "def feature_extraction(transformed_data):\n",
    "    for file in transformed_data:\n",
    "        df = pd.read_csv(file)\n",
    "        # Dropping columns that are mostly null\n",
    "        try:\n",
    "            print(file)\n",
    "            df.drop(['friends', 'is_backing', 'is_starred', 'permissions',\n",
    "                     'converted_pledged_amount', 'creator', 'currency', \n",
    "                     'currency_symbol', 'currency_trailing_code', 'current_currency', \n",
    "                     'fx_rate', 'photo', 'pledged', 'profile', 'slug', 'source_url', \n",
    "                     'spotlight', 'state_changed_at', 'urls', 'usd_type'], axis=1, inplace=True)\n",
    "            cols_to_convert = ['created_at', 'deadline', 'launched_at']\n",
    "            for c in cols_to_convert:\n",
    "                df[c] = pd.to_datetime(df[c], origin='unix', unit='s')\n",
    "            df['blurb_length'] = df['blurb'].str.split().str.len()\n",
    "            df['cat'] = df['category'].apply(json.loads)\n",
    "            df_temp = json_normalize(df['cat'])\n",
    "            df_temp['category1'], df_temp['subcatgory'] = df_temp.slug.str.split('/').str\n",
    "            df_temp.drop(['color', 'parent_id', 'name', 'id', 'position', 'urls.web.discover', 'slug'], axis=1, inplace=True)\n",
    "            df = pd.merge(df, df_temp, left_index=True, right_index=True)\n",
    "            # Checking the proportions of each category\n",
    "            df.drop(['disable_communication','cat', 'category'], axis=1, inplace=True)\n",
    "            # Calculate new column 'usd_goal' as goal * static_usd_rate\n",
    "            df['usd_goal'] = round(df['goal'] * df['static_usd_rate'],2)\n",
    "            # Dropping goal and static_usd_rate\n",
    "            df.drop(['goal', 'static_usd_rate'], axis=1, inplace=True)\n",
    "            df.drop('location', axis=1, inplace=True)\n",
    "            # Count length of each name\n",
    "            df['name_length'] = df['name'].str.split().str.len()\n",
    "            df['usd_pledged'] = round(df['usd_pledged'],2)\n",
    "            # Time between creating and launching a project\n",
    "            df['creation_to_launch_days'] = df['launched_at'] - df['created_at']\n",
    "            df['creation_to_launch_days'] = df['creation_to_launch_days'].dt.round('d').dt.days \n",
    "            # Campaign length\n",
    "            df['campaign_days'] = df['deadline'] - df['launched_at']\n",
    "            df['campaign_days'] = df['campaign_days'].dt.round('d').dt.days # Rounding to nearest days, then showing as number only\n",
    "            # Mean pledge per backer\n",
    "            df['pledge_per_backer'] = round(df['usd_pledged']/df['backers_count'],2)\n",
    "            df.blurb_length.fillna(0, inplace=True)\n",
    "            # We have kept only Successful and Failed states, getting rid of all others. \n",
    "            df = df[df['state'].isin(['successful', 'failed'])]\n",
    "            df.drop_duplicates(subset='id', keep='first', inplace=True)\n",
    "            # Setting the id column as the index\n",
    "            df.set_index('id', inplace=True)\n",
    "            filename = '/scratch/work/jupyterhub/2019-FA-DS-GA-1007/haj272/project/feature_transformed/feature_'+file.split('files')[1]\n",
    "            print(filename)\n",
    "            df.to_csv(filename, index=False)\n",
    "        except:\n",
    "            continue"
   ]
  },
  {
   "cell_type": "code",
   "execution_count": null,
   "metadata": {
    "scrolled": true
   },
   "outputs": [],
   "source": [
    "feature_extraction(transformed_data)"
   ]
  },
  {
   "cell_type": "markdown",
   "metadata": {},
   "source": [
    "<b> After completing the stage of extracting features from our huge dataset, we created intermediate files to concatenate all the feature_extracted data, then we create a new CSV file called \"final_data\" that will contain our feature extracted data from the entire dataset. This was done on a separate notebook. This is done to conveniently prepare ourselves for the next round, which is Data Exploration. </b>"
   ]
  },
  {
   "cell_type": "code",
   "execution_count": 17,
   "metadata": {
    "scrolled": false
   },
   "outputs": [
    {
     "name": "stderr",
     "output_type": "stream",
     "text": [
      "/share/apps/jupyterhub/2019-FA-DS-GA-1007/lib/python3.7/site-packages/ipykernel_launcher.py:2: FutureWarning: Sorting because non-concatenation axis is not aligned. A future version\n",
      "of pandas will change to not sort by default.\n",
      "\n",
      "To accept the future behavior, pass 'sort=False'.\n",
      "\n",
      "To retain the current behavior and silence the warning, pass 'sort=True'.\n",
      "\n",
      "  \n"
     ]
    }
   ],
   "source": [
    "# concatenate all feature transformed data\n",
    "df_from_each_file = (pd.read_csv(file,engine='python') for file in featured)\n",
    "concatenated_df = pd.concat(df_from_each_file, ignore_index=True)\n",
    "concatenated_df.to_csv('final_data.csv',index=False)"
   ]
  },
  {
   "cell_type": "code",
   "execution_count": 5,
   "metadata": {
    "scrolled": false
   },
   "outputs": [
    {
     "name": "stderr",
     "output_type": "stream",
     "text": [
      "/share/apps/jupyterhub/2019-FA-DS-GA-1007/lib/python3.7/site-packages/IPython/core/interactiveshell.py:3058: DtypeWarning: Columns (5,12,21) have mixed types. Specify dtype option on import or set low_memory=False.\n",
      "  interactivity=interactivity, compiler=compiler, result=result)\n"
     ]
    }
   ],
   "source": [
    "data = pd.read_csv('final_data.csv')"
   ]
  },
  {
   "cell_type": "code",
   "execution_count": 6,
   "metadata": {},
   "outputs": [
    {
     "data": {
      "text/plain": [
       "(3095633, 28)"
      ]
     },
     "execution_count": 6,
     "metadata": {},
     "output_type": "execute_result"
    }
   ],
   "source": [
    "data.shape"
   ]
  },
  {
   "cell_type": "code",
   "execution_count": 7,
   "metadata": {},
   "outputs": [],
   "source": [
    "data.drop(['name','staff_pick','country_displayable_name','subcatgory','is_starrable','deadline_day', 'deadline_hour', 'deadline_month','launch_day',\n",
    "       'launch_hour', 'launch_month','last_update_published_at','pledge_per_backer','unread_messages_count','unseen_activity_count'],axis=1,inplace=True)"
   ]
  },
  {
   "cell_type": "code",
   "execution_count": 8,
   "metadata": {
    "scrolled": false
   },
   "outputs": [],
   "source": [
    "data.dropna(subset=['name_length'],inplace=True)"
   ]
  },
  {
   "cell_type": "code",
   "execution_count": 9,
   "metadata": {
    "scrolled": false
   },
   "outputs": [
    {
     "data": {
      "text/plain": [
       "backers_count              0\n",
       "blurb_length               0\n",
       "campaign_days              0\n",
       "category1                  0\n",
       "country                    0\n",
       "created_at                 0\n",
       "creation_to_launch_days    0\n",
       "deadline                   0\n",
       "launched_at                0\n",
       "name_length                0\n",
       "state                      0\n",
       "usd_goal                   0\n",
       "usd_pledged                0\n",
       "dtype: int64"
      ]
     },
     "execution_count": 9,
     "metadata": {},
     "output_type": "execute_result"
    }
   ],
   "source": [
    "data.isnull().sum()"
   ]
  },
  {
   "cell_type": "markdown",
   "metadata": {},
   "source": [
    "# Step 3: Exploratory Data Analysis"
   ]
  },
  {
   "cell_type": "markdown",
   "metadata": {},
   "source": [
    "## Step 3.1: Key Statistics of KickStarter Projects"
   ]
  },
  {
   "cell_type": "code",
   "execution_count": 10,
   "metadata": {},
   "outputs": [
    {
     "name": "stdout",
     "output_type": "stream",
     "text": [
      "Earliest Date the project was created :  2009-04-21 17:35:35\n",
      "Latest Date the project was created :  2019-10-09 11:55:00\n"
     ]
    }
   ],
   "source": [
    "print(\"Earliest Date the project was created : \", min(data.created_at))\n",
    "print(\"Latest Date the project was created : \", max(data.created_at))"
   ]
  },
  {
   "cell_type": "code",
   "execution_count": 11,
   "metadata": {},
   "outputs": [
    {
     "name": "stdout",
     "output_type": "stream",
     "text": [
      "Earliest Date of the project's deadline :  2009-05-03 06:59:59\n",
      "Latest Date of the project's deadline :  2019-10-17 05:01:00\n"
     ]
    }
   ],
   "source": [
    "print(\"Earliest Date of the project's deadline : \", min(data.deadline))\n",
    "print(\"Latest Date of the project's deadline : \", max(data.deadline))"
   ]
  },
  {
   "cell_type": "code",
   "execution_count": 12,
   "metadata": {
    "scrolled": true
   },
   "outputs": [
    {
     "name": "stdout",
     "output_type": "stream",
     "text": [
      "Total number of projects launched on Kickstarter is: 3,095,611\n",
      "Total number of successfully funded projects is: 1,695,605\n",
      "The proportion of successfully funded completed projects is: 55%\n"
     ]
    }
   ],
   "source": [
    "print(\"Total number of projects launched on Kickstarter is: {0:,}\".format(len(data)))\n",
    "print(\"Total number of successfully funded projects is: {0:,}\".format(len(data.loc[data['state'] == 'successful'])))\n",
    "print(f\"The proportion of successfully funded completed projects is: {int(round((len(data.loc[data['state'] == 'successful'])/len(data))*100,0))}%\")"
   ]
  },
  {
   "cell_type": "code",
   "execution_count": 13,
   "metadata": {
    "scrolled": true
   },
   "outputs": [
    {
     "name": "stdout",
     "output_type": "stream",
     "text": [
      "The total amount of money raised by projects is $121,146,841,894\n",
      "The total amount of money pledged by backers is $38,329,196,202\n",
      "The total amount of money pledged to successful projects by backers is $36,690,675,300\n"
     ]
    }
   ],
   "source": [
    "print(\"The total amount of money raised by projects is ${0:,.0f}\".format(data.usd_goal.sum()))\n",
    "print(\"The total amount of money pledged by backers is ${0:,.0f}\".format(data.usd_pledged.sum()))\n",
    "print(\"The total amount of money pledged to successful projects by backers is ${0:,.0f}\".format(sum(data.loc[data['state'] == 'successful'].usd_pledged)))"
   ]
  },
  {
   "cell_type": "code",
   "execution_count": 14,
   "metadata": {
    "scrolled": true
   },
   "outputs": [
    {
     "name": "stdout",
     "output_type": "stream",
     "text": [
      "The mean project fundraising goal is $39,135\n"
     ]
    }
   ],
   "source": [
    "print(\"The mean project fundraising goal is ${0:,.0f}\".format(data.usd_goal.mean()))"
   ]
  },
  {
   "cell_type": "code",
   "execution_count": 15,
   "metadata": {},
   "outputs": [
    {
     "name": "stdout",
     "output_type": "stream",
     "text": [
      "The mean amount pledged per project is $12,382\n",
      "The mean amount pledged per successful project is $21,639\n",
      "The mean amount pledged per failed project is $1,170\n"
     ]
    }
   ],
   "source": [
    "print(\"The mean amount pledged per project is ${0:,.0f}\".format(data.usd_pledged.mean()))\n",
    "print(\"The mean amount pledged per successful project is ${0:,.0f}\".format(data.loc[data['state'] == 'successful'].usd_pledged.mean()))\n",
    "print(\"The mean amount pledged per failed project is ${0:,.0f}\".format(data.loc[data['state'] == 'failed'].usd_pledged.mean()))"
   ]
  },
  {
   "cell_type": "code",
   "execution_count": 16,
   "metadata": {},
   "outputs": [
    {
     "name": "stdout",
     "output_type": "stream",
     "text": [
      "The mean number of backers per project is 147\n",
      "The mean number of days a campaign is run for is 33\n"
     ]
    }
   ],
   "source": [
    "print(\"The mean number of backers per project is\", int(round(data.backers_count.mean(),0)))\n",
    "print(\"The mean number of days a campaign is run for is\", int(round(data.campaign_days.mean(),0)))"
   ]
  },
  {
   "cell_type": "markdown",
   "metadata": {},
   "source": [
    "<h4><b> The key insights from the above analysis are summarized below:\n",
    "    \n",
    "    Earliest Date the project was created :  2009-04-21 17:35:35\n",
    "    \n",
    "    Latest Date the project was created :  2019-10-09 11:55:00\n",
    "    \n",
    "    Earliest Date of the project's deadline :  2009-05-03 06:59:59\n",
    "    \n",
    "    Latest Date of the project's deadline :  2019-10-17 05:01:00\n",
    "    \n",
    "    Total number of projects launched on Kickstarter is: 3,095,611\n",
    "    \n",
    "    Total number of successfully funded projects is: 1,695,605\n",
    "    \n",
    "    The proportion of successfully funded completed projects is: 55%\n",
    "    \n",
    "    The total amount of money raised by projects is $121,146,841,894\n",
    "    \n",
    "    The total amount of money pledged by backers is $38,329,196,202\n",
    "    \n",
    "    The total amount of money pledged to successful projects by backers is $36,690,675,300\n",
    "    \n",
    "    The mean project fundraising goal is $39,135\n",
    "    \n",
    "    The mean amount pledged per project is $12,382\n",
    "    \n",
    "    The mean amount pledged per successful project is $21,639\n",
    "    \n",
    "    The mean amount pledged per failed project is $1,170\n",
    "    \n",
    "    The mean number of backers per project is 147\n",
    "    \n",
    "    The mean number of days a campaign is run for is 33\n",
    "    \n",
    "</b></h4>"
   ]
  },
  {
   "cell_type": "markdown",
   "metadata": {},
   "source": [
    "## Step 3.2: Visualizing the data\n",
    "\n",
    "At this step we would try to get sense of the overall trends in data by visualizing it in different ways. This will help us understand the raw data in more intuitive manner"
   ]
  },
  {
   "cell_type": "code",
   "execution_count": 22,
   "metadata": {
    "scrolled": false
   },
   "outputs": [
    {
     "data": {
      "image/png": "[encoded data removed]",
      "text/plain": [
       "<Figure size 432x288 with 1 Axes>"
      ]
     },
     "metadata": {
      "needs_background": "light"
     },
     "output_type": "display_data"
    }
   ],
   "source": [
    "ax = data['state'].value_counts(ascending=True).plot(kind='bar', color=['tomato', 'darkgreen'], rot=0)\n",
    "ax = ax.set_title('Number of projects')"
   ]
  },
  {
   "cell_type": "markdown",
   "metadata": {},
   "source": [
    "<b> Figure: The total number of projects that have failed VS successful </b>\n",
    "\n",
    "1. The above figure helps us understand the number of successful and failed projects in our dataset\n",
    "2. We see that the number of failed projects is less than the number of successful projects"
   ]
  },
  {
   "cell_type": "code",
   "execution_count": 18,
   "metadata": {
    "scrolled": true
   },
   "outputs": [],
   "source": [
    "data.launched_at = pd.to_datetime(data.launched_at)"
   ]
  },
  {
   "cell_type": "code",
   "execution_count": 24,
   "metadata": {
    "scrolled": true
   },
   "outputs": [
    {
     "data": {
      "image/png": "[encoded data removed]",
      "text/plain": [
       "<Figure size 1152x432 with 2 Axes>"
      ]
     },
     "metadata": {
      "needs_background": "light"
     },
     "output_type": "display_data"
    }
   ],
   "source": [
    "data['launch_year'] = data['launched_at'].dt.year\n",
    "project_years = data.set_index('launch_year').state.sort_index()\n",
    "data_by_year = project_years.groupby(project_years.index).value_counts().unstack()\n",
    "fig, ax = plt.subplots(1,2,figsize=(16,6))\n",
    "ax[0] = data_by_year.plot(kind='bar', ax=ax[0], color=['tomato', 'darkgreen'])\n",
    "ax[0].set_xlabel('Project Launch Year')\n",
    "ax[0].set_ylabel('Total Project')\n",
    "ax[0].set_title('Number of successful and failed projects over the years')\n",
    "ax[1] = data_by_year.plot(ax=ax[1], color=['tomato', 'darkgreen'])\n",
    "ax[1].set_xlabel('Project Launch Year')\n",
    "ax[1].set_ylabel('Total Project')\n",
    "ax[1] = ax[1].set_title('Number of successful and failed projects over the years')"
   ]
  },
  {
   "cell_type": "markdown",
   "metadata": {},
   "source": [
    "<b> Figure A (Left): Bar Graph of the total number of failed vs successful projects from the years 2009-2019 </b>\n",
    "\n",
    "<b> Figure B (Right): Line Graph of the total number of failed vs successful projects from the years 2009-2019 </b>\n",
    "    \n",
    "1. We see that the number of failed and successful projects have similar paths \n",
    "2. The number of both successful and failes projects were at peak in 2015"
   ]
  },
  {
   "cell_type": "code",
   "execution_count": 25,
   "metadata": {},
   "outputs": [],
   "source": [
    "state_group = data.groupby('state')"
   ]
  },
  {
   "cell_type": "code",
   "execution_count": 26,
   "metadata": {},
   "outputs": [
    {
     "data": {
      "image/png": "[encoded data removed]",
      "text/plain": [
       "<Figure size 432x288 with 1 Axes>"
      ]
     },
     "metadata": {
      "needs_background": "light"
     },
     "output_type": "display_data"
    }
   ],
   "source": [
    "ax = state_group.usd_goal.median().plot(kind='bar', color=['tomato', 'darkgreen'], rot=0)\n",
    "ax = ax.set_title('Median project goal ($)')"
   ]
  },
  {
   "cell_type": "markdown",
   "metadata": {},
   "source": [
    "<b> Figure: The Project Goal in USD for failed VS successful projects </b>\n",
    "\n",
    "1. The above figure helps us understand the financial amount of project goal\n",
    "    in successful and failed projects in our dataset\n",
    "2. We see that the financial goal of failed projects is much higher than that of successful projects"
   ]
  },
  {
   "cell_type": "code",
   "execution_count": 27,
   "metadata": {
    "scrolled": false
   },
   "outputs": [
    {
     "data": {
      "image/png": "[encoded data removed]",
      "text/plain": [
       "<Figure size 720x360 with 2 Axes>"
      ]
     },
     "metadata": {
      "needs_background": "light"
     },
     "output_type": "display_data"
    }
   ],
   "source": [
    "fig, ax = plt.subplots(1,2,figsize=(10,5))\n",
    "ax[0] = state_group.usd_pledged.median().plot(kind='bar', ax=ax[0], color=['tomato', 'darkgreen'], rot=0)\n",
    "ax[0].set_title('Median pledged per project ($)')\n",
    "ax[0].set_xlabel('')\n",
    "ax[1] = state_group.backers_count.median().plot(kind='bar', ax=ax[1], color=['tomato', 'darkgreen'], rot=0)\n",
    "ax[1].set_title('Median backers per project')\n",
    "ax[1] = ax[1].set_xlabel('')"
   ]
  },
  {
   "cell_type": "markdown",
   "metadata": {},
   "source": [
    "<b> Figure A (Left) : Median Amount of dollars pledged per project that failed vs succeeded</b>\n",
    "\n",
    "<b> Figure B (right) : Median number of backers per project that failed vs succeeded</b>\n",
    "\n",
    "1. It could be the reason that more dollars pledged to the project helped it succeed\n",
    "2. More backers might mean more motivation to make the project successful"
   ]
  },
  {
   "cell_type": "code",
   "execution_count": 19,
   "metadata": {
    "scrolled": true
   },
   "outputs": [
    {
     "data": {
      "image/png": "[encoded data removed]",
      "text/plain": [
       "<Figure size 1152x432 with 2 Axes>"
      ]
     },
     "metadata": {
      "needs_background": "light"
     },
     "output_type": "display_data"
    }
   ],
   "source": [
    "fig, ax = plt.subplots(1,2,figsize=(16,6))\n",
    "ax[0] = data.set_index('launched_at').country.resample('MS').count().plot(ax=ax[0])\n",
    "ax[0].set_xlabel('Project Launch Year')\n",
    "ax[0].set_ylabel('Total Project')\n",
    "ax[0].set_title('Variation of Number of projects launched on Kickstarter\\n over the months of years 2009-2019s')\n",
    "ax[1] = data.set_index('launched_at').country.resample('YS').count().plot(ax=ax[1])\n",
    "ax[1].set_xlabel('Project Launch Year')\n",
    "ax[1].set_ylabel('Total Project')\n",
    "ax[1] = ax[1].set_title('Variation of Number of projects launched on Kickstarter\\n over the years 2009-2019s')"
   ]
  },
  {
   "cell_type": "markdown",
   "metadata": {},
   "source": [
    "<b> Figure A (Left) : Variation of Number of projects launched on Kickstarter over the months of years 2009-2019s</b>\n",
    "\n",
    "<b> Figure B (right) : Variation of Number of projects launched on Kickstarter over the years 2009-2019s</b>\n",
    "\n",
    "1.We notice that in 2014-2016, number of project launches peaked"
   ]
  },
  {
   "cell_type": "code",
   "execution_count": 29,
   "metadata": {},
   "outputs": [
    {
     "data": {
      "image/png": "[encoded data removed]",
      "text/plain": [
       "<Figure size 1152x864 with 2 Axes>"
      ]
     },
     "metadata": {
      "needs_background": "light"
     },
     "output_type": "display_data"
    }
   ],
   "source": [
    "category_state = data.set_index('category1').state.sort_index()\n",
    "category_state = category_state.groupby(category_state.index).value_counts().unstack()\n",
    "fig, ax = plt.subplots(2,1,figsize=(16,12))\n",
    "ax[0] = category_state.plot(kind='bar', ax=ax[0], color=['tomato', 'darkgreen'])\n",
    "ax[0].set_xlabel('Project Category')\n",
    "ax[0].set_ylabel('Total Projects')\n",
    "ax[0].set_title('Number of successful and failed projects for all Categories')\n",
    "\n",
    "category_goal = data.set_index('category1').usd_goal.sort_index()\n",
    "category_goal = category_goal.groupby(category_goal.index).median()\n",
    "ax[1] = category_goal.plot(kind='bar', ax=ax[1], color=['darkgreen'])\n",
    "ax[1].set_xlabel('Project Category')\n",
    "ax[1].set_ylabel('Project Goal in USD')\n",
    "ax[1] = ax[1].set_title('Median Project Goal for all categories')\n",
    "fig.subplots_adjust(hspace=0.6)\n",
    "plt.show()"
   ]
  },
  {
   "cell_type": "markdown",
   "metadata": {},
   "source": [
    "<b> Figure A (Left) : Number of successful and failed projects for all Categories </b>\n",
    "\n",
    "<b> Figure B (right) : Median Project Goal for all categories </b>\n",
    "\n",
    "1. We notice that the most number of successful projects are from entertainment industry like music, films etc\n",
    "\n",
    "2. We also notice that the technology related projects had the highest project goal in USD"
   ]
  },
  {
   "cell_type": "code",
   "execution_count": 30,
   "metadata": {
    "scrolled": true
   },
   "outputs": [
    {
     "data": {
      "image/png": "[encoded data removed]",
      "text/plain": [
       "<Figure size 1152x864 with 2 Axes>"
      ]
     },
     "metadata": {
      "needs_background": "light"
     },
     "output_type": "display_data"
    }
   ],
   "source": [
    "country_state = data.set_index('country').state.sort_index()\n",
    "country_state = country_state.groupby(country_state.index).value_counts().unstack()\n",
    "fig, ax = plt.subplots(2,1,figsize=(16,12))\n",
    "ax[0] = country_state.plot(kind='bar', ax=ax[0], color=['tomato', 'darkgreen'])\n",
    "ax[0].set_xlabel('Project Country')\n",
    "ax[0].set_ylabel('Total Projects')\n",
    "ax[0].set_title('Number of successful and failed projects for all Countries')\n",
    "\n",
    "country_state = data.set_index('country').usd_goal.sort_index()\n",
    "country_state = country_state.groupby(country_state.index).median()\n",
    "ax[1] = country_state.plot(kind='bar', ax=ax[1], color=['lightgreen'])\n",
    "ax[1].set_xlabel('Project Countries')\n",
    "ax[1].set_ylabel('Project Goal in USD')\n",
    "ax[1] = ax[1].set_title('Median Project Goal for all Countries')\n",
    "fig.subplots_adjust(hspace=0.2)\n",
    "plt.show()"
   ]
  },
  {
   "cell_type": "markdown",
   "metadata": {},
   "source": [
    "<b> Figure A (Top) : Number of successful and failed projects for all Countries </b>\n",
    "\n",
    "<b> Figure B (Bottom) : Median Project Goal for all Countries </b>\n",
    "\n",
    "1. We observe that the most number of projects happen in US but it lags behind in terms of median project goal set in USD"
   ]
  },
  {
   "cell_type": "code",
   "execution_count": 31,
   "metadata": {
    "scrolled": true
   },
   "outputs": [
    {
     "data": {
      "image/png": "[encoded data removed]",
      "text/plain": [
       "<Figure size 720x1296 with 3 Axes>"
      ]
     },
     "metadata": {
      "needs_background": "light"
     },
     "output_type": "display_data"
    }
   ],
   "source": [
    "fig, ax = plt.subplots(3,1,figsize=(10,18))\n",
    "ax[0] = data.groupby(data.blurb_length).created_at.count().plot(ax=ax[0], color=['darkgreen'])\n",
    "ax[0].set_xlabel('Project Blurb Length')\n",
    "ax[0].set_ylabel('Total Projects')\n",
    "ax[0].set_title('Number of projects for all Blurb Lengths')\n",
    "\n",
    "ax[1] = data.groupby(data.campaign_days).created_at.count().plot(ax=ax[1], color=['darkgreen'])\n",
    "ax[1].set_xlabel('Project Campaign Days')\n",
    "ax[1].set_ylabel('Total Projects')\n",
    "ax[1] = ax[1].set_title('Number of projects for different amount of Campaign Days')\n",
    "\n",
    "\n",
    "backers_count1 = data[data.backers_count < 100]\n",
    "ax[2] = backers_count1.groupby(backers_count1.backers_count).state.count().plot(ax=ax[2], color=['darkgreen'])\n",
    "ax[2].set_xlabel('Project Backers Count')\n",
    "ax[2].set_ylabel('Total Projects')\n",
    "ax[2] = ax[2].set_title('Number of projects for different amount of Backers Count')\n",
    "\n",
    "fig.subplots_adjust(hspace=0.2)\n",
    "plt.show()"
   ]
  },
  {
   "cell_type": "markdown",
   "metadata": {},
   "source": [
    "<b> Figure A (Top) : Number of projects for all Blurb Lengths </b>\n",
    "\n",
    "<b> Figure B (Middle) : Number of projects for different amount of Campaign Days </b>\n",
    "\n",
    "<b> Figure C (Bottom) : Number of projects for different amount of Backers Count </b>\n",
    "\n",
    "1. We notice that the highest total number of projects had the blurb length of approx 20\n",
    "2. Its also easy to note that the number of backers for a project are very few per project. Very few projects had a high backers count."
   ]
  },
  {
   "cell_type": "markdown",
   "metadata": {},
   "source": [
    "# Step 4: Transforming the Data"
   ]
  },
  {
   "cell_type": "markdown",
   "metadata": {},
   "source": [
    "### Step 4.1: Drop irrelevant columns and keep relevant ones"
   ]
  },
  {
   "cell_type": "code",
   "execution_count": 32,
   "metadata": {},
   "outputs": [],
   "source": [
    "data.drop(['launched_at','created_at','deadline'],axis=1, inplace=True)"
   ]
  },
  {
   "cell_type": "code",
   "execution_count": 35,
   "metadata": {},
   "outputs": [],
   "source": [
    "data['state'] = data['state'].replace({'failed': 0, 'successful': 1})"
   ]
  },
  {
   "cell_type": "markdown",
   "metadata": {},
   "source": [
    "### Step 4.2: Category Encoding"
   ]
  },
  {
   "cell_type": "code",
   "execution_count": 43,
   "metadata": {},
   "outputs": [],
   "source": [
    "data_transformed = pd.get_dummies(data)"
   ]
  },
  {
   "cell_type": "markdown",
   "metadata": {},
   "source": [
    "#### These steps were performed to save the transformed data to a file, for future modelling of the data\n",
    "```\n",
    "data_transformed.to_csv('data_final_data.csv',index=False)\n",
    "data_transformed = pd.read_csv('data_final_data.csv')\n",
    "```"
   ]
  },
  {
   "cell_type": "code",
   "execution_count": 5,
   "metadata": {},
   "outputs": [],
   "source": [
    "data_transformed = pd.read_csv('data_final_data.csv')"
   ]
  },
  {
   "cell_type": "code",
   "execution_count": 6,
   "metadata": {},
   "outputs": [],
   "source": [
    "data_transformed = data_transformed.head(1000000)"
   ]
  },
  {
   "cell_type": "code",
   "execution_count": 7,
   "metadata": {},
   "outputs": [],
   "source": [
    "X_train = data_transformed.drop('state', axis=1)\n",
    "Y = data_transformed.state"
   ]
  },
  {
   "cell_type": "markdown",
   "metadata": {},
   "source": [
    "### Step 4.3: Scaling the Dataset using StandardScaler"
   ]
  },
  {
   "cell_type": "code",
   "execution_count": 8,
   "metadata": {
    "scrolled": true
   },
   "outputs": [
    {
     "data": {
      "text/html": [
       "<div>\n",
       "<style scoped>\n",
       "    .dataframe tbody tr th:only-of-type {\n",
       "        vertical-align: middle;\n",
       "    }\n",
       "\n",
       "    .dataframe tbody tr th {\n",
       "        vertical-align: top;\n",
       "    }\n",
       "\n",
       "    .dataframe thead th {\n",
       "        text-align: right;\n",
       "    }\n",
       "</style>\n",
       "<table border=\"1\" class=\"dataframe\">\n",
       "  <thead>\n",
       "    <tr style=\"text-align: right;\">\n",
       "      <th></th>\n",
       "      <th>backers_count</th>\n",
       "      <th>blurb_length</th>\n",
       "      <th>campaign_days</th>\n",
       "      <th>creation_to_launch_days</th>\n",
       "      <th>name_length</th>\n",
       "      <th>usd_goal</th>\n",
       "      <th>usd_pledged</th>\n",
       "      <th>launch_year</th>\n",
       "      <th>category1_art</th>\n",
       "      <th>category1_comics</th>\n",
       "      <th>...</th>\n",
       "      <th>country_IT</th>\n",
       "      <th>country_JP</th>\n",
       "      <th>country_LU</th>\n",
       "      <th>country_MX</th>\n",
       "      <th>country_NL</th>\n",
       "      <th>country_NO</th>\n",
       "      <th>country_NZ</th>\n",
       "      <th>country_SE</th>\n",
       "      <th>country_SG</th>\n",
       "      <th>country_US</th>\n",
       "    </tr>\n",
       "  </thead>\n",
       "  <tbody>\n",
       "    <tr>\n",
       "      <td>0</td>\n",
       "      <td>0.246901</td>\n",
       "      <td>0.379805</td>\n",
       "      <td>-0.102189</td>\n",
       "      <td>-0.333265</td>\n",
       "      <td>0.839362</td>\n",
       "      <td>-0.012228</td>\n",
       "      <td>0.146493</td>\n",
       "      <td>-0.363332</td>\n",
       "      <td>-0.325492</td>\n",
       "      <td>-0.205005</td>\n",
       "      <td>...</td>\n",
       "      <td>-0.091045</td>\n",
       "      <td>-0.02939</td>\n",
       "      <td>-0.014108</td>\n",
       "      <td>-0.080673</td>\n",
       "      <td>-0.088979</td>\n",
       "      <td>-0.044968</td>\n",
       "      <td>-0.064218</td>\n",
       "      <td>-0.073869</td>\n",
       "      <td>-0.043203</td>\n",
       "      <td>-1.791418</td>\n",
       "    </tr>\n",
       "    <tr>\n",
       "      <td>1</td>\n",
       "      <td>0.034852</td>\n",
       "      <td>-0.021641</td>\n",
       "      <td>0.141525</td>\n",
       "      <td>0.141713</td>\n",
       "      <td>-0.990876</td>\n",
       "      <td>-0.027251</td>\n",
       "      <td>-0.020366</td>\n",
       "      <td>-1.281090</td>\n",
       "      <td>-0.325492</td>\n",
       "      <td>-0.205005</td>\n",
       "      <td>...</td>\n",
       "      <td>-0.091045</td>\n",
       "      <td>-0.02939</td>\n",
       "      <td>-0.014108</td>\n",
       "      <td>-0.080673</td>\n",
       "      <td>-0.088979</td>\n",
       "      <td>-0.044968</td>\n",
       "      <td>-0.064218</td>\n",
       "      <td>-0.073869</td>\n",
       "      <td>-0.043203</td>\n",
       "      <td>0.558217</td>\n",
       "    </tr>\n",
       "    <tr>\n",
       "      <td>2</td>\n",
       "      <td>0.000963</td>\n",
       "      <td>1.182696</td>\n",
       "      <td>-0.264665</td>\n",
       "      <td>-0.299338</td>\n",
       "      <td>0.473314</td>\n",
       "      <td>-0.033544</td>\n",
       "      <td>-0.068474</td>\n",
       "      <td>-1.739968</td>\n",
       "      <td>-0.325492</td>\n",
       "      <td>-0.205005</td>\n",
       "      <td>...</td>\n",
       "      <td>-0.091045</td>\n",
       "      <td>-0.02939</td>\n",
       "      <td>-0.014108</td>\n",
       "      <td>-0.080673</td>\n",
       "      <td>-0.088979</td>\n",
       "      <td>-0.044968</td>\n",
       "      <td>-0.064218</td>\n",
       "      <td>-0.073869</td>\n",
       "      <td>-0.043203</td>\n",
       "      <td>0.558217</td>\n",
       "    </tr>\n",
       "    <tr>\n",
       "      <td>3</td>\n",
       "      <td>0.085202</td>\n",
       "      <td>-0.222364</td>\n",
       "      <td>-1.077044</td>\n",
       "      <td>-0.239966</td>\n",
       "      <td>0.839362</td>\n",
       "      <td>-0.035986</td>\n",
       "      <td>-0.066300</td>\n",
       "      <td>-1.281090</td>\n",
       "      <td>-0.325492</td>\n",
       "      <td>-0.205005</td>\n",
       "      <td>...</td>\n",
       "      <td>-0.091045</td>\n",
       "      <td>-0.02939</td>\n",
       "      <td>-0.014108</td>\n",
       "      <td>-0.080673</td>\n",
       "      <td>-0.088979</td>\n",
       "      <td>-0.044968</td>\n",
       "      <td>-0.064218</td>\n",
       "      <td>-0.073869</td>\n",
       "      <td>-0.043203</td>\n",
       "      <td>0.558217</td>\n",
       "    </tr>\n",
       "    <tr>\n",
       "      <td>4</td>\n",
       "      <td>-0.110387</td>\n",
       "      <td>0.379805</td>\n",
       "      <td>-1.483234</td>\n",
       "      <td>-0.273893</td>\n",
       "      <td>-0.990876</td>\n",
       "      <td>-0.035704</td>\n",
       "      <td>-0.117428</td>\n",
       "      <td>-1.281090</td>\n",
       "      <td>-0.325492</td>\n",
       "      <td>-0.205005</td>\n",
       "      <td>...</td>\n",
       "      <td>-0.091045</td>\n",
       "      <td>-0.02939</td>\n",
       "      <td>-0.014108</td>\n",
       "      <td>-0.080673</td>\n",
       "      <td>-0.088979</td>\n",
       "      <td>-0.044968</td>\n",
       "      <td>-0.064218</td>\n",
       "      <td>-0.073869</td>\n",
       "      <td>-0.043203</td>\n",
       "      <td>0.558217</td>\n",
       "    </tr>\n",
       "  </tbody>\n",
       "</table>\n",
       "<p>5 rows × 45 columns</p>\n",
       "</div>"
      ],
      "text/plain": [
       "   backers_count  blurb_length  campaign_days  creation_to_launch_days  \\\n",
       "0       0.246901      0.379805      -0.102189                -0.333265   \n",
       "1       0.034852     -0.021641       0.141525                 0.141713   \n",
       "2       0.000963      1.182696      -0.264665                -0.299338   \n",
       "3       0.085202     -0.222364      -1.077044                -0.239966   \n",
       "4      -0.110387      0.379805      -1.483234                -0.273893   \n",
       "\n",
       "   name_length  usd_goal  usd_pledged  launch_year  category1_art  \\\n",
       "0     0.839362 -0.012228     0.146493    -0.363332      -0.325492   \n",
       "1    -0.990876 -0.027251    -0.020366    -1.281090      -0.325492   \n",
       "2     0.473314 -0.033544    -0.068474    -1.739968      -0.325492   \n",
       "3     0.839362 -0.035986    -0.066300    -1.281090      -0.325492   \n",
       "4    -0.990876 -0.035704    -0.117428    -1.281090      -0.325492   \n",
       "\n",
       "   category1_comics  ...  country_IT  country_JP  country_LU  country_MX  \\\n",
       "0         -0.205005  ...   -0.091045    -0.02939   -0.014108   -0.080673   \n",
       "1         -0.205005  ...   -0.091045    -0.02939   -0.014108   -0.080673   \n",
       "2         -0.205005  ...   -0.091045    -0.02939   -0.014108   -0.080673   \n",
       "3         -0.205005  ...   -0.091045    -0.02939   -0.014108   -0.080673   \n",
       "4         -0.205005  ...   -0.091045    -0.02939   -0.014108   -0.080673   \n",
       "\n",
       "   country_NL  country_NO  country_NZ  country_SE  country_SG  country_US  \n",
       "0   -0.088979   -0.044968   -0.064218   -0.073869   -0.043203   -1.791418  \n",
       "1   -0.088979   -0.044968   -0.064218   -0.073869   -0.043203    0.558217  \n",
       "2   -0.088979   -0.044968   -0.064218   -0.073869   -0.043203    0.558217  \n",
       "3   -0.088979   -0.044968   -0.064218   -0.073869   -0.043203    0.558217  \n",
       "4   -0.088979   -0.044968   -0.064218   -0.073869   -0.043203    0.558217  \n",
       "\n",
       "[5 rows x 45 columns]"
      ]
     },
     "execution_count": 8,
     "metadata": {},
     "output_type": "execute_result"
    }
   ],
   "source": [
    "scaler = StandardScaler()\n",
    "X = pd.DataFrame(scaler.fit_transform(X_train), columns=list(X_train.columns))\n",
    "X.head()"
   ]
  },
  {
   "cell_type": "markdown",
   "metadata": {},
   "source": [
    "### Step 4.4: Splitting the Dataset into Train and Test Sets"
   ]
  },
  {
   "cell_type": "code",
   "execution_count": 9,
   "metadata": {},
   "outputs": [],
   "source": [
    "X_train, X_test, y_train, y_test = train_test_split(X,Y, test_size=0.25, random_state=123)"
   ]
  },
  {
   "cell_type": "code",
   "execution_count": 10,
   "metadata": {},
   "outputs": [
    {
     "data": {
      "text/plain": [
       "((750000, 45), (750000,))"
      ]
     },
     "execution_count": 10,
     "metadata": {},
     "output_type": "execute_result"
    }
   ],
   "source": [
    "X_train.shape, y_train.shape"
   ]
  },
  {
   "cell_type": "code",
   "execution_count": 11,
   "metadata": {
    "scrolled": true
   },
   "outputs": [
    {
     "data": {
      "text/plain": [
       "((250000, 45), (250000,))"
      ]
     },
     "execution_count": 11,
     "metadata": {},
     "output_type": "execute_result"
    }
   ],
   "source": [
    "X_test.shape, y_test.shape"
   ]
  },
  {
   "cell_type": "markdown",
   "metadata": {},
   "source": [
    "# Transformation Ends \n",
    "<b> Now we have completed our Step 4, which was transformation. Now its ready to be fed to the Machine Learning models below. </b>\n",
    "<H1>----------------------------------------------------------------------------------------------------------</H1>\n"
   ]
  },
  {
   "cell_type": "markdown",
   "metadata": {},
   "source": [
    "# Step 5 (Final): Prediction of Success of the Project using ML\n",
    "\n",
    "<b> Now we will apply Machine Learning Classification algorithms like Logistic Regression and Random Forest to check the prediction accuracy </b>"
   ]
  },
  {
   "cell_type": "markdown",
   "metadata": {},
   "source": [
    "### Step 5.1: Model 1 - Logistic Regression\n",
    "\n",
    "Logistic regression is used as a binary classifier to predict which of two categories _*(successful or failed)*_ a data point falls in to."
   ]
  },
  {
   "cell_type": "markdown",
   "metadata": {},
   "source": [
    "#### *Fitting a logistic regression model with random_state and solver parameter*"
   ]
  },
  {
   "cell_type": "code",
   "execution_count": 12,
   "metadata": {},
   "outputs": [
    {
     "data": {
      "text/plain": [
       "LogisticRegression(C=1.0, class_weight=None, dual=False, fit_intercept=True,\n",
       "                   intercept_scaling=1, l1_ratio=None, max_iter=100,\n",
       "                   multi_class='warn', n_jobs=None, penalty='l2',\n",
       "                   random_state=121, solver='lbfgs', tol=0.0001, verbose=0,\n",
       "                   warm_start=False)"
      ]
     },
     "execution_count": 12,
     "metadata": {},
     "output_type": "execute_result"
    }
   ],
   "source": [
    "clf = LogisticRegression(random_state=121,\n",
    "                         solver='lbfgs')\n",
    "clf.fit(X_train,y_train)"
   ]
  },
  {
   "cell_type": "markdown",
   "metadata": {},
   "source": [
    "#### *Make predictions*"
   ]
  },
  {
   "cell_type": "code",
   "execution_count": 13,
   "metadata": {},
   "outputs": [],
   "source": [
    "y_pred_train = clf.predict(X_train)\n",
    "y_pred_test = clf.predict(X_test)"
   ]
  },
  {
   "cell_type": "code",
   "execution_count": 14,
   "metadata": {},
   "outputs": [
    {
     "name": "stdout",
     "output_type": "stream",
     "text": [
      "Logistic regression accuracy for training set: 0.94147\n",
      "Logistic regression accuracy for test set: 0.9418\n",
      "\n",
      "Classification report:\n",
      "              precision    recall  f1-score   support\n",
      "\n",
      "           0       0.93      0.93      0.93    111440\n",
      "           1       0.95      0.95      0.95    138560\n",
      "\n",
      "    accuracy                           0.94    250000\n",
      "   macro avg       0.94      0.94      0.94    250000\n",
      "weighted avg       0.94      0.94      0.94    250000\n",
      "\n"
     ]
    }
   ],
   "source": [
    "print(\"Logistic regression accuracy for training set:\", round(clf.score(X_train, y_train),5))\n",
    "print(\"Logistic regression accuracy for test set:\", round(clf.score(X_test, y_test),5))\n",
    "print(\"\\nClassification report:\")\n",
    "print(classification_report(y_test, y_pred_test))\n"
   ]
  },
  {
   "cell_type": "code",
   "execution_count": 39,
   "metadata": {},
   "outputs": [
    {
     "name": "stdout",
     "output_type": "stream",
     "text": [
      "Confusion Matrix\n",
      "\t\t\t\tPredicted\t\n",
      "\t\t\t Failed \t Successful\n",
      "-------------------------------------------------\n",
      "Actual\t| Failed\t| 104142 \t 7298\n",
      "\t| Successful\t| 7251 \t\t 131309\n"
     ]
    }
   ],
   "source": [
    "mat = confusion_matrix(y_test,y_pred_test,labels=clf.classes_)\n",
    "print('Confusion Matrix')\n",
    "print('\\t\\t\\t\\tPredicted\\t')\n",
    "print('\\t\\t\\t','Failed','\\t','Successful')\n",
    "print('-------------------------------------------------')\n",
    "print('Actual\\t| Failed\\t|',mat[0][0],'\\t',mat[0][1])\n",
    "print('\\t| Successful\\t|',mat[1][0],'\\t\\t',mat[1][1])"
   ]
  },
  {
   "cell_type": "markdown",
   "metadata": {},
   "source": [
    "### Step 5.2: Model 2 - Random Forest Classification\n",
    "\n",
    "The Random Forest algorithm is a supervised learning algorithm that can be used for classification. It works by building multiple different decision trees to predict which category a data point belongs to."
   ]
  },
  {
   "cell_type": "markdown",
   "metadata": {},
   "source": [
    "#### *Fitting a random forest classifier model with parameters such as n_estimators, max-depth, random_state, criterion*"
   ]
  },
  {
   "cell_type": "code",
   "execution_count": 41,
   "metadata": {
    "scrolled": true
   },
   "outputs": [],
   "source": [
    "clf = RandomForestClassifier(n_estimators=100, max_depth=2,\n",
    "                             random_state=121, criterion='entropy')"
   ]
  },
  {
   "cell_type": "code",
   "execution_count": 42,
   "metadata": {
    "scrolled": true
   },
   "outputs": [
    {
     "data": {
      "text/plain": [
       "RandomForestClassifier(bootstrap=True, class_weight=None, criterion='entropy',\n",
       "                       max_depth=2, max_features='auto', max_leaf_nodes=None,\n",
       "                       min_impurity_decrease=0.0, min_impurity_split=None,\n",
       "                       min_samples_leaf=1, min_samples_split=2,\n",
       "                       min_weight_fraction_leaf=0.0, n_estimators=100,\n",
       "                       n_jobs=None, oob_score=False, random_state=121,\n",
       "                       verbose=0, warm_start=False)"
      ]
     },
     "execution_count": 42,
     "metadata": {},
     "output_type": "execute_result"
    }
   ],
   "source": [
    "clf.fit(X_train, y_train)"
   ]
  },
  {
   "cell_type": "markdown",
   "metadata": {},
   "source": [
    "#### *Make predictions*"
   ]
  },
  {
   "cell_type": "code",
   "execution_count": 43,
   "metadata": {},
   "outputs": [],
   "source": [
    "y_pred_train = clf.predict(X_train)\n",
    "y_pred_test = clf.predict(X_test)"
   ]
  },
  {
   "cell_type": "code",
   "execution_count": 46,
   "metadata": {
    "scrolled": false
   },
   "outputs": [
    {
     "name": "stdout",
     "output_type": "stream",
     "text": [
      "RandomForest accuracy for training set: 0.87677\n",
      "RandomForest accuracy for test set: 0.87785\n",
      "\n",
      "Classification report:\n",
      "              precision    recall  f1-score   support\n",
      "\n",
      "           0       0.95      0.77      0.85    111440\n",
      "           1       0.84      0.96      0.90    138560\n",
      "\n",
      "    accuracy                           0.88    250000\n",
      "   macro avg       0.89      0.87      0.87    250000\n",
      "weighted avg       0.89      0.88      0.88    250000\n",
      "\n"
     ]
    }
   ],
   "source": [
    "print(\"RandomForest accuracy for training set:\", round(clf.score(X_train, y_train),5))\n",
    "print(\"RandomForest accuracy for test set:\", round(clf.score(X_test, y_test),5))\n",
    "print(\"\\nClassification report:\")\n",
    "print(classification_report(y_test, y_pred_test))"
   ]
  },
  {
   "cell_type": "code",
   "execution_count": 45,
   "metadata": {
    "scrolled": true
   },
   "outputs": [
    {
     "name": "stdout",
     "output_type": "stream",
     "text": [
      "Confusion Matrix\n",
      "\t\t\t\tPredicted\t\n",
      "\t\t\t Failed \t Successful\n",
      "-------------------------------------------------\n",
      "Actual\t| Failed\t| 85898 \t 25542\n",
      "\t| Successful\t| 4996 \t\t 133564\n"
     ]
    }
   ],
   "source": [
    "mat = confusion_matrix(y_test,y_pred_test,labels=clf.classes_)\n",
    "print('Confusion Matrix')\n",
    "print('\\t\\t\\t\\tPredicted\\t')\n",
    "print('\\t\\t\\t','Failed','\\t','Successful')\n",
    "print('-------------------------------------------------')\n",
    "print('Actual\\t| Failed\\t|',mat[0][0],'\\t',mat[0][1])\n",
    "print('\\t| Successful\\t|',mat[1][0],'\\t\\t',mat[1][1])"
   ]
  },
  {
   "cell_type": "markdown",
   "metadata": {},
   "source": [
    "# Results and Discussion :\n",
    "\n",
    "<h3> 1. Description of Methodology and Tests Performed: </h3>\n",
    "\n",
    "<b> \n",
    "    \n",
    "    \n",
    "        We divided our data science problem into a series of logical steps and performed actions on each of them. The logical steps we implemented are described as below:\n",
    "\n",
    "        1.1 We started with Data Gathering/Collection. This step allowed us to compile all the data that we need to work upon. The challenge here was to compile the relevant files to feed into our pre processing step. We Started by collecting the URL's of all the files, then unzipped them and then found out the ones which were related to the projects on Kickstarter. \n",
    " \n",
    "      1.2 Pre processing this huge dataset that we collected was a great challenge due to the size of the dataset. We performed various operations like dropping null columns, drop irrelevant columns from the dataset, getting column data into a suitable format, generated interesting features from the existing irrelevant features, generated multiple simple features from the complex column features and performed feature engineering on the short and long string types. This step was a huge step towards data cleaning. This step took a lot of time to prepare the data towards visualizing it.\n",
    "\n",
    "      1.3 Now its time to understand the data by designing proper visualization techniques. This step is necessary to know what the data is trying to convey. Once we get the hang of the data, we can now talk to the data properly and perform transformations on it\n",
    "\n",
    "      1.4 Now we prepare the data and transform it to make it ready to be fed to the Machine Learning models. \n",
    "\n",
    "      1.5 Finally we perform 2 models to check the accuracy of prediction of the success of a project, which was our initial data science problem that we trying to solve. We used Logistic Regression and Random Forest Classification to get the prediction accuracy. \n",
    "    \n",
    "    Our findings are explained below:\n",
    "</b>      \n",
    "\n",
    "<h3> 2. Evaluation of Findings: </h3>\n",
    "\n",
    "<b> After using algorithms like Logistic Regression and Random Forest, we are able to derive the following results:\n",
    "    \n",
    "    In the Logistic Regression :\n",
    "    Logistic regression accuracy for training set: 0.94147\n",
    "    Logistic regression accuracy for test set: 0.9418\n",
    "\n",
    "    In the Random Forest:\n",
    "    RandomForest accuracy for training set: 0.87677\n",
    "    RandomForest accuracy for test set: 0.87785\n",
    "    \n",
    "   Hence we can see that after performing all the steps of Data Cleaning, Data Transformation, and Data Prediction modelling, we are able to get a 94.11% accuracy of predicting the result state of the project before its released using Logistic Regression technique. Logistic regression gave good results than random forest because, as the feature dimension goes large, the logistic regression goes on performing better than the random forest. Logistic regression optimizes the multinomial feature dimension dataset. Thus our choice of selecting Logistic Regression turns out to be a good one.\n",
    "</b>\n",
    "\n",
    "<h3> 3. Possible Next Steps : </h3>\n",
    "\n",
    "<b> \n",
    "                        \n",
    "        We hope to experiment with more ML prediction algorithms to try to test out the accuracies of every model. We can extend this model to techniques such as XGBoost classifier, Support Vector Machines Classifier to classify the new set of projects into success or failure.\n",
    "\n",
    "</b>"
   ]
  }
 ],
 "metadata": {
  "kernelspec": {
   "display_name": "Python 3",
   "language": "python",
   "name": "python3"
  },
  "language_info": {
   "codemirror_mode": {
    "name": "ipython",
    "version": 3
   },
   "file_extension": ".py",
   "mimetype": "text/x-python",
   "name": "python",
   "nbconvert_exporter": "python",
   "pygments_lexer": "ipython3",
   "version": "3.7.0"
  }
 },
 "nbformat": 4,
 "nbformat_minor": 4
}
